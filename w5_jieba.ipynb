{
 "cells": [
  {
   "cell_type": "code",
   "execution_count": 4,
   "metadata": {
    "collapsed": true
   },
   "outputs": [],
   "source": [
    "from __future__ import unicode_literals\n",
    "import sys\n",
    "sys.path.append(\"../\")\n",
    "\n",
    "import jieba\n",
    "import jieba.posseg\n",
    "import jieba.analyse"
   ]
  },
  {
   "cell_type": "code",
   "execution_count": 6,
   "metadata": {},
   "outputs": [],
   "source": [
    "jieba.set_dictionary('dict.txt.big')"
   ]
  },
  {
   "cell_type": "code",
   "execution_count": 8,
   "metadata": {},
   "outputs": [
    {
     "name": "stdout",
     "output_type": "stream",
     "text": [
      "只/剩下/鋼琴/陪/我/彈/了/一天/\n",
      "/睡/著/的/大提琴/提琴///安靜/的/舊舊/的/\n",
      "\n",
      "/我/想/你/已/表現/的/非常/明白/\n",
      "/我/懂/我/也/知道///你/沒有/捨不得/不得/\n",
      "\n",
      "/你/說/你/也/會/難過/我/不/相信/\n",
      "/牽/著/你/陪/著/我///也/只是/曾經/\n",
      "/希望/他/是/真的/比/我/還要/愛/你/\n",
      "/我/才/會/逼/自己/離開/\n",
      "\n",
      "/你/要/我/說/多難/難堪///我/根本/不想/分開/\n",
      "/為/什麼/還要/我/用/微笑/來/帶過/\n",
      "/我/沒有/這種/天份///包容/你/也/接受/他/\n",
      "/不用/擔心/的/太多///我會/一直/好好/過/\n",
      "/你/已經/遠遠/遠離/離開///我/也/會/慢慢/慢走/走開/\n",
      "/為/什麼/我/連/分開/都/遷就/著/你/\n",
      "/我/真的/沒有/天份///安靜/的/沒/這麼/快/\n",
      "/我會/學/著/放棄/你///是/因/為/我/太/愛/你/\n",
      "\n"
     ]
    }
   ],
   "source": [
    "#分詞\n",
    "seg_list =jieba.cut('''只剩下鋼琴陪我彈了一天\n",
    "睡著的大提琴　安靜的舊舊的\n",
    "\n",
    "我想你已表現的非常明白\n",
    "我懂我也知道　你沒有捨不得\n",
    "\n",
    "你說你也會難過我不相信\n",
    "牽著你陪著我　也只是曾經\n",
    "希望他是真的比我還要愛你\n",
    "我才會逼自己離開\n",
    "\n",
    "你要我說多難堪　我根本不想分開\n",
    "為什麼還要我用微笑來帶過\n",
    "我沒有這種天份　包容你也接受他\n",
    "不用擔心的太多　我會一直好好過\n",
    "你已經遠遠離開　我也會慢慢走開\n",
    "為什麼我連分開都遷就著你\n",
    "我真的沒有天份　安靜的沒這麼快\n",
    "我會學著放棄你　是因為我太愛你\n",
    "''',cut_all=True)\n",
    "print((\"/\").join(seg_list))"
   ]
  },
  {
   "cell_type": "code",
   "execution_count": 9,
   "metadata": {},
   "outputs": [
    {
     "name": "stdout",
     "output_type": "stream",
     "text": [
      "只/剩下/鋼琴/陪/我彈/了/一天/\n",
      "/睡著/的/大提琴/　/安靜/的/舊舊/的/\n",
      "/\n",
      "/我/想/你/已/表現/的/非常/明白/\n",
      "/我/懂/我/也/知道/　/你/沒有/捨不得/\n",
      "/\n",
      "/你/說/你/也/會/難過/我/不/相信/\n",
      "/牽著/你/陪/著/我/　/也/只是/曾經/\n",
      "/希望/他/是/真的/比/我/還要/愛你/\n",
      "/我/才/會/逼/自己/離開/\n",
      "/\n",
      "/你/要/我/說/多/難堪/　/我/根本/不想/分開/\n",
      "/為/什麼/還要/我用/微笑/來/帶過/\n",
      "/我/沒有/這種/天份/　/包容/你/也/接受/他/\n",
      "/不用/擔心/的/太/多/　/我會/一直/好好/過/\n",
      "/你/已經/遠遠/離開/　/我/也/會/慢慢/走開/\n",
      "/為/什麼/我連/分開/都/遷就/著/你/\n",
      "/我/真的/沒有/天份/　/安靜/的/沒/這麼/快/\n",
      "/我會/學著/放棄/你/　/是/因為/我/太愛你/\n",
      "\n"
     ]
    }
   ],
   "source": [
    "#輸出機率最大的分析方法\n",
    "seg_list =jieba.cut('''只剩下鋼琴陪我彈了一天\n",
    "睡著的大提琴　安靜的舊舊的\n",
    "\n",
    "我想你已表現的非常明白\n",
    "我懂我也知道　你沒有捨不得\n",
    "\n",
    "你說你也會難過我不相信\n",
    "牽著你陪著我　也只是曾經\n",
    "希望他是真的比我還要愛你\n",
    "我才會逼自己離開\n",
    "\n",
    "你要我說多難堪　我根本不想分開\n",
    "為什麼還要我用微笑來帶過\n",
    "我沒有這種天份　包容你也接受他\n",
    "不用擔心的太多　我會一直好好過\n",
    "你已經遠遠離開　我也會慢慢走開\n",
    "為什麼我連分開都遷就著你\n",
    "我真的沒有天份　安靜的沒這麼快\n",
    "我會學著放棄你　是因為我太愛你\n",
    "''',cut_all=False)\n",
    "print((\"/\").join(seg_list))"
   ]
  },
  {
   "cell_type": "code",
   "execution_count": 10,
   "metadata": {},
   "outputs": [
    {
     "name": "stdout",
     "output_type": "stream",
     "text": [
      "你, 已經, 遠遠, 離開, 　, 我, 也, 會, 慢慢, 走開\n"
     ]
    }
   ],
   "source": [
    "#搜索引擎模式\n",
    "seg_list = jieba.cut_for_search(\"你已經遠遠離開　我也會慢慢走開\") \n",
    "print((\", \").join(seg_list)) "
   ]
  },
  {
   "cell_type": "code",
   "execution_count": 11,
   "metadata": {
    "collapsed": true
   },
   "outputs": [],
   "source": [
    "# 添加詞典\n",
    "jieba.load_userdict(\"./dict.txt.big\")  "
   ]
  },
  {
   "cell_type": "code",
   "execution_count": 14,
   "metadata": {},
   "outputs": [
    {
     "name": "stdout",
     "output_type": "stream",
     "text": [
      "如果/放到/post/中將/會/出錯/。\n",
      "如果/放到/post/中將/會/出錯/。\n",
      "「/台中/」/正確/應該/不會/被/分開\n",
      "「/台中/」/正確/應該/不會/被/分開\n"
     ]
    }
   ],
   "source": [
    "# 調整現有的詞典\n",
    "print(('/').join(jieba.cut('如果放到post中將會出錯。', HMM=False)))\n",
    "\n",
    "jieba.suggest_freq(('中', '將'), True)\n",
    "\n",
    "print(('/').join(jieba.cut('如果放到post中將會出錯。', HMM=False)))\n",
    "\n",
    "\n",
    "print(('/').join(jieba.cut('「台中」正確應該不會被分開', HMM=False)))\n",
    "\n",
    "jieba.suggest_freq('台中', True)\n",
    "\n",
    "print(('/').join(jieba.cut('「台中」正確應該不會被分開', HMM=False)))"
   ]
  },
  {
   "cell_type": "code",
   "execution_count": 15,
   "metadata": {},
   "outputs": [
    {
     "name": "stdout",
     "output_type": "stream",
     "text": [
      "怎麼 0.6766849529943396\n",
      "擁有 0.563904127495283\n",
      "快樂 0.4511233019962264\n",
      "足夠 0.3383424764971698\n",
      "一陣風 0.3383424764971698\n",
      "吹來 0.3383424764971698\n",
      "風箏 0.3383424764971698\n",
      "祈禱 0.3383424764971698\n",
      "感動 0.3383424764971698\n",
      "終於 0.3383424764971698\n",
      "盡頭 0.3383424764971698\n",
      "發現 0.3383424764971698\n",
      "最痛 0.3383424764971698\n",
      "人海 0.30863052957735854\n",
      "祝福 0.2467611538211321\n",
      "我愛上 0.2255616509981132\n",
      "不會 0.2255616509981132\n",
      "其實 0.2255616509981132\n",
      "那樣 0.2255616509981132\n",
      "身影 0.20945916824490568\n"
     ]
    }
   ],
   "source": [
    "# 關鍵詞提取\n",
    "s='''怎麼去擁有 一道彩虹\n",
    "怎麼去擁抱 一夏天的風\n",
    "天上的星星 笑地上的人\n",
    "總是不能懂 不能覺得足夠\n",
    "如果我愛上 你的笑容\n",
    "要怎麼收藏 要怎麼擁有\n",
    "如果你快樂 不是為我\n",
    "會不會放手 其實才是擁有\n",
    "當一陣風吹來 風箏飛上天空\n",
    "為了你而祈禱 而祝福 而感動\n",
    "終於你身影 消失在 人海盡頭\n",
    "才發現 笑著哭 最痛\n",
    "那天你和我 那個山丘\n",
    "那樣的唱著 那一年的歌\n",
    "那樣的回憶 那麼足夠 \n",
    "足夠我天天 都品嚐著寂寞\n",
    "當一陣風吹來 風箏飛上天空\n",
    "為了你而祈禱 而祝福 而感動\n",
    "終於你身影 消失在 人海盡頭\n",
    "才發現 笑著哭 最痛\n",
    "當一陣風吹來 風箏飛上天空\n",
    "為了你而祈禱 而祝福 而感動\n",
    "終於你身影 消失在 人海盡頭\n",
    "才發現 笑著哭 最痛\n",
    "如果我愛上 你的笑容\n",
    "要怎麼收藏 要怎麼擁有\n",
    "如果你快樂 再不是為我\n",
    "會不會放手 其實才是擁有\n",
    "知足的快樂 叫我忍受心痛\n",
    "知足的快樂 叫我忍受心痛\n",
    "'''\n",
    "for x, w in jieba.analyse.extract_tags(s, topK=20, withWeight=True):\n",
    "    print('%s %s' % (x, w))"
   ]
  },
  {
   "cell_type": "code",
   "execution_count": 16,
   "metadata": {},
   "outputs": [
    {
     "name": "stdout",
     "output_type": "stream",
     "text": [
      "風箏 1.0\n",
      "足夠 0.9760833609003912\n",
      "不能 0.8734171902359402\n",
      "身影 0.867221034388531\n",
      "人海 0.8548453722769505\n",
      "收藏 0.8360649683670035\n",
      "消失 0.8355439321259975\n",
      "擁有 0.788369433285724\n",
      "放手 0.6983018330418419\n",
      "山丘 0.6983018330418419\n",
      "不會 0.6933776585713072\n",
      "唱著 0.6933776585713072\n",
      "吹來 0.6844742198168791\n",
      "忍受 0.665947707206951\n",
      "心痛 0.6622037671632626\n",
      "知足 0.6507860362268946\n",
      "覺得 0.5584215422267982\n",
      "天空 0.5139658559335188\n",
      "發現 0.4603428504292565\n",
      "感動 0.4603373928636152\n"
     ]
    }
   ],
   "source": [
    "#textrank\n",
    "for x, w in jieba.analyse.textrank(s, withWeight=True):\n",
    "    print('%s %s' % (x, w))"
   ]
  },
  {
   "cell_type": "code",
   "execution_count": 18,
   "metadata": {},
   "outputs": [
    {
     "name": "stdout",
     "output_type": "stream",
     "text": [
      "我 r\n",
      "最 d\n",
      "喜歡 v\n",
      "星期天 t\n",
      "放假 v\n"
     ]
    }
   ],
   "source": [
    "# 詞性標注\n",
    "words = jieba.posseg.cut(\"我最喜歡星期天放假\")\n",
    "for word, flag in words:\n",
    "    print('%s %s' % (word, flag))"
   ]
  },
  {
   "cell_type": "code",
   "execution_count": null,
   "metadata": {
    "collapsed": true
   },
   "outputs": [],
   "source": [
    "#Tokenize\n",
    "result = jieba.tokenize(u'永和服有限公司')\n",
    "for tk in result:\n",
    "    print(\"word %s\\t\\t start: %d \\t\\t end:%d\" % (tk[0],tk[1],tk[2]))\n",
    "    \n",
    "result = jieba.tokenize(u'永和服装饰品有限公司', mode='search')\n",
    "for tk in result:\n",
    "    print(\"word %s\\t\\t start: %d \\t\\t end:%d\" % (tk[0],tk[1],tk[2]))\n"
   ]
  }
 ],
 "metadata": {
  "kernelspec": {
   "display_name": "Python 3",
   "language": "python",
   "name": "python3"
  },
  "language_info": {
   "codemirror_mode": {
    "name": "ipython",
    "version": 3
   },
   "file_extension": ".py",
   "mimetype": "text/x-python",
   "name": "python",
   "nbconvert_exporter": "python",
   "pygments_lexer": "ipython3",
   "version": "3.6.1"
  }
 },
 "nbformat": 4,
 "nbformat_minor": 2
}
